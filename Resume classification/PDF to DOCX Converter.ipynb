{
 "cells": [
  {
   "attachments": {},
   "cell_type": "markdown",
   "id": "58b0f690",
   "metadata": {},
   "source": [
    "## PDF to DOCX Converter"
   ]
  },
  {
   "cell_type": "code",
   "execution_count": 1,
   "id": "57cead72",
   "metadata": {},
   "outputs": [],
   "source": [
    "from pdf2docx import Converter\n",
    "import os"
   ]
  },
  {
   "cell_type": "code",
   "execution_count": 6,
   "id": "77d8a8b1",
   "metadata": {},
   "outputs": [],
   "source": [
    "# # # dir_path for input reading and output files & a for loop # # #\n",
    "\n",
    "path_input = r'Dataset/Resumes/React JS Developer'\n",
    "path_output = r'Dataset/Resumes'"
   ]
  },
  {
   "cell_type": "code",
   "execution_count": 4,
   "id": "02112f54",
   "metadata": {},
   "outputs": [
    {
     "name": "stderr",
     "output_type": "stream",
     "text": [
      "[INFO] Start to convert Dataset/Resumes/React JS Developer/React JS Developer_Prabakaran_Musquare.pdf\n",
      "[INFO] \u001b[1;36m[1/4] Opening document...\u001b[0m\n",
      "[INFO] \u001b[1;36m[2/4] Analyzing document...\u001b[0m\n"
     ]
    },
    {
     "name": "stdout",
     "output_type": "stream",
     "text": [
      "React JS Developer_Prabakaran_Musquare\n"
     ]
    },
    {
     "name": "stderr",
     "output_type": "stream",
     "text": [
      "[INFO] \u001b[1;36m[3/4] Parsing pages...\u001b[0m\n",
      "[INFO] (1/2) Page 1\n",
      "[INFO] (2/2) Page 2\n",
      "[INFO] \u001b[1;36m[4/4] Creating pages...\u001b[0m\n",
      "[INFO] (1/2) Page 1\n",
      "[INFO] (2/2) Page 2\n"
     ]
    },
    {
     "ename": "FileNotFoundError",
     "evalue": "[Errno 2] No such file or directory: 'Resumes/React JS Developer_Prabakaran_Musquare.docx'",
     "output_type": "error",
     "traceback": [
      "\u001b[0;31m---------------------------------------------------------------------------\u001b[0m",
      "\u001b[0;31mFileNotFoundError\u001b[0m                         Traceback (most recent call last)",
      "Cell \u001b[0;32mIn[4], line 7\u001b[0m\n\u001b[1;32m      5\u001b[0m basename \u001b[39m=\u001b[39m os\u001b[39m.\u001b[39mpath\u001b[39m.\u001b[39msplitext(file)[\u001b[39m0\u001b[39m]\n\u001b[1;32m      6\u001b[0m \u001b[39mprint\u001b[39m(basename)\n\u001b[0;32m----> 7\u001b[0m cv\u001b[39m.\u001b[39;49mconvert(path_output \u001b[39m+\u001b[39;49m \u001b[39m'\u001b[39;49m\u001b[39m/\u001b[39;49m\u001b[39m'\u001b[39;49m \u001b[39m+\u001b[39;49m basename\u001b[39m+\u001b[39;49m\u001b[39m'\u001b[39;49m\u001b[39m.docx\u001b[39;49m\u001b[39m'\u001b[39;49m, start\u001b[39m=\u001b[39;49m\u001b[39m0\u001b[39;49m, end\u001b[39m=\u001b[39;49m\u001b[39mNone\u001b[39;49;00m)\n\u001b[1;32m      8\u001b[0m cv\u001b[39m.\u001b[39mclose()\n",
      "File \u001b[0;32m~/anaconda3/lib/python3.9/site-packages/pdf2docx/converter.py:329\u001b[0m, in \u001b[0;36mConverter.convert\u001b[0;34m(self, docx_filename, start, end, pages, **kwargs)\u001b[0m\n\u001b[1;32m    327\u001b[0m     \u001b[39mself\u001b[39m\u001b[39m.\u001b[39m_convert_with_multi_processing(docx_filename, start, end, \u001b[39m*\u001b[39m\u001b[39m*\u001b[39msettings)\n\u001b[1;32m    328\u001b[0m \u001b[39melse\u001b[39;00m:\n\u001b[0;32m--> 329\u001b[0m     \u001b[39mself\u001b[39;49m\u001b[39m.\u001b[39;49mparse(start, end, pages, \u001b[39m*\u001b[39;49m\u001b[39m*\u001b[39;49msettings)\u001b[39m.\u001b[39;49mmake_docx(docx_filename, \u001b[39m*\u001b[39;49m\u001b[39m*\u001b[39;49msettings)\n\u001b[1;32m    331\u001b[0m logging\u001b[39m.\u001b[39minfo(\u001b[39m'\u001b[39m\u001b[39mTerminated in \u001b[39m\u001b[39m%.2f\u001b[39;00m\u001b[39ms.\u001b[39m\u001b[39m'\u001b[39m, perf_counter()\u001b[39m-\u001b[39mt0)\n",
      "File \u001b[0;32m~/anaconda3/lib/python3.9/site-packages/pdf2docx/converter.py:213\u001b[0m, in \u001b[0;36mConverter.make_docx\u001b[0;34m(self, docx_filename, **kwargs)\u001b[0m\n\u001b[1;32m    210\u001b[0m             \u001b[39mraise\u001b[39;00m MakedocxException(\u001b[39mf\u001b[39m\u001b[39m'\u001b[39m\u001b[39mError when make page \u001b[39m\u001b[39m{\u001b[39;00mpid\u001b[39m}\u001b[39;00m\u001b[39m: \u001b[39m\u001b[39m{\u001b[39;00me\u001b[39m}\u001b[39;00m\u001b[39m'\u001b[39m)\n\u001b[1;32m    212\u001b[0m \u001b[39m# save docx\u001b[39;00m\n\u001b[0;32m--> 213\u001b[0m docx_file\u001b[39m.\u001b[39;49msave(filename)\n",
      "File \u001b[0;32m~/anaconda3/lib/python3.9/site-packages/docx/document.py:135\u001b[0m, in \u001b[0;36mDocument.save\u001b[0;34m(self, path_or_stream)\u001b[0m\n\u001b[1;32m    130\u001b[0m \u001b[39mdef\u001b[39;00m \u001b[39msave\u001b[39m(\u001b[39mself\u001b[39m, path_or_stream):\n\u001b[1;32m    131\u001b[0m     \u001b[39m\"\"\"\u001b[39;00m\n\u001b[1;32m    132\u001b[0m \u001b[39m    Save this document to *path_or_stream*, which can be either a path to\u001b[39;00m\n\u001b[1;32m    133\u001b[0m \u001b[39m    a filesystem location (a string) or a file-like object.\u001b[39;00m\n\u001b[1;32m    134\u001b[0m \u001b[39m    \"\"\"\u001b[39;00m\n\u001b[0;32m--> 135\u001b[0m     \u001b[39mself\u001b[39;49m\u001b[39m.\u001b[39;49m_part\u001b[39m.\u001b[39;49msave(path_or_stream)\n",
      "File \u001b[0;32m~/anaconda3/lib/python3.9/site-packages/docx/parts/document.py:111\u001b[0m, in \u001b[0;36mDocumentPart.save\u001b[0;34m(self, path_or_stream)\u001b[0m\n\u001b[1;32m    106\u001b[0m \u001b[39mdef\u001b[39;00m \u001b[39msave\u001b[39m(\u001b[39mself\u001b[39m, path_or_stream):\n\u001b[1;32m    107\u001b[0m     \u001b[39m\"\"\"\u001b[39;00m\n\u001b[1;32m    108\u001b[0m \u001b[39m    Save this document to *path_or_stream*, which can be either a path to\u001b[39;00m\n\u001b[1;32m    109\u001b[0m \u001b[39m    a filesystem location (a string) or a file-like object.\u001b[39;00m\n\u001b[1;32m    110\u001b[0m \u001b[39m    \"\"\"\u001b[39;00m\n\u001b[0;32m--> 111\u001b[0m     \u001b[39mself\u001b[39;49m\u001b[39m.\u001b[39;49mpackage\u001b[39m.\u001b[39;49msave(path_or_stream)\n",
      "File \u001b[0;32m~/anaconda3/lib/python3.9/site-packages/docx/opc/package.py:172\u001b[0m, in \u001b[0;36mOpcPackage.save\u001b[0;34m(self, pkg_file)\u001b[0m\n\u001b[1;32m    170\u001b[0m \u001b[39mfor\u001b[39;00m part \u001b[39min\u001b[39;00m \u001b[39mself\u001b[39m\u001b[39m.\u001b[39mparts:\n\u001b[1;32m    171\u001b[0m     part\u001b[39m.\u001b[39mbefore_marshal()\n\u001b[0;32m--> 172\u001b[0m PackageWriter\u001b[39m.\u001b[39;49mwrite(pkg_file, \u001b[39mself\u001b[39;49m\u001b[39m.\u001b[39;49mrels, \u001b[39mself\u001b[39;49m\u001b[39m.\u001b[39;49mparts)\n",
      "File \u001b[0;32m~/anaconda3/lib/python3.9/site-packages/docx/opc/pkgwriter.py:32\u001b[0m, in \u001b[0;36mPackageWriter.write\u001b[0;34m(pkg_file, pkg_rels, parts)\u001b[0m\n\u001b[1;32m     25\u001b[0m \u001b[39m@staticmethod\u001b[39m\n\u001b[1;32m     26\u001b[0m \u001b[39mdef\u001b[39;00m \u001b[39mwrite\u001b[39m(pkg_file, pkg_rels, parts):\n\u001b[1;32m     27\u001b[0m     \u001b[39m\"\"\"\u001b[39;00m\n\u001b[1;32m     28\u001b[0m \u001b[39m    Write a physical package (.pptx file) to *pkg_file* containing\u001b[39;00m\n\u001b[1;32m     29\u001b[0m \u001b[39m    *pkg_rels* and *parts* and a content types stream based on the\u001b[39;00m\n\u001b[1;32m     30\u001b[0m \u001b[39m    content types of the parts.\u001b[39;00m\n\u001b[1;32m     31\u001b[0m \u001b[39m    \"\"\"\u001b[39;00m\n\u001b[0;32m---> 32\u001b[0m     phys_writer \u001b[39m=\u001b[39m PhysPkgWriter(pkg_file)\n\u001b[1;32m     33\u001b[0m     PackageWriter\u001b[39m.\u001b[39m_write_content_types_stream(phys_writer, parts)\n\u001b[1;32m     34\u001b[0m     PackageWriter\u001b[39m.\u001b[39m_write_pkg_rels(phys_writer, pkg_rels)\n",
      "File \u001b[0;32m~/anaconda3/lib/python3.9/site-packages/docx/opc/phys_pkg.py:141\u001b[0m, in \u001b[0;36m_ZipPkgWriter.__init__\u001b[0;34m(self, pkg_file)\u001b[0m\n\u001b[1;32m    139\u001b[0m \u001b[39mdef\u001b[39;00m \u001b[39m__init__\u001b[39m(\u001b[39mself\u001b[39m, pkg_file):\n\u001b[1;32m    140\u001b[0m     \u001b[39msuper\u001b[39m(_ZipPkgWriter, \u001b[39mself\u001b[39m)\u001b[39m.\u001b[39m\u001b[39m__init__\u001b[39m()\n\u001b[0;32m--> 141\u001b[0m     \u001b[39mself\u001b[39m\u001b[39m.\u001b[39m_zipf \u001b[39m=\u001b[39m ZipFile(pkg_file, \u001b[39m'\u001b[39;49m\u001b[39mw\u001b[39;49m\u001b[39m'\u001b[39;49m, compression\u001b[39m=\u001b[39;49mZIP_DEFLATED)\n",
      "File \u001b[0;32m~/anaconda3/lib/python3.9/zipfile.py:1248\u001b[0m, in \u001b[0;36mZipFile.__init__\u001b[0;34m(self, file, mode, compression, allowZip64, compresslevel, strict_timestamps)\u001b[0m\n\u001b[1;32m   1246\u001b[0m \u001b[39mwhile\u001b[39;00m \u001b[39mTrue\u001b[39;00m:\n\u001b[1;32m   1247\u001b[0m     \u001b[39mtry\u001b[39;00m:\n\u001b[0;32m-> 1248\u001b[0m         \u001b[39mself\u001b[39m\u001b[39m.\u001b[39mfp \u001b[39m=\u001b[39m io\u001b[39m.\u001b[39;49mopen(file, filemode)\n\u001b[1;32m   1249\u001b[0m     \u001b[39mexcept\u001b[39;00m \u001b[39mOSError\u001b[39;00m:\n\u001b[1;32m   1250\u001b[0m         \u001b[39mif\u001b[39;00m filemode \u001b[39min\u001b[39;00m modeDict:\n",
      "\u001b[0;31mFileNotFoundError\u001b[0m: [Errno 2] No such file or directory: 'Resumes/React JS Developer_Prabakaran_Musquare.docx'"
     ]
    }
   ],
   "source": [
    "for file in os.listdir(path_input):\n",
    "    if file.endswith('.pdf'):\n",
    "        final = os.path.join(path_input, file)\n",
    "        cv = Converter(final)\n",
    "        basename = os.path.splitext(file)[0]\n",
    "        print(basename)\n",
    "        cv.convert(path_output + '/' + basename+'.docx', start=0, end=None)\n",
    "        cv.close()\n",
    "\n",
    "# # For Multiple Folder\n",
    "# path_input = 'Resumes\\React JS Developer'\n",
    "# path_output = 'Resumes'\n",
    "# for folder in os.listdir(path_input):\n",
    "#     folder_path = os.path.join(path_input, folder)\n",
    "#     for file in os.listdir(folder_path):\n",
    "#         if file.endswith('.pdf'):\n",
    "#             final_path = os.path.join(folder_path, file)\n",
    "#             cv = Converter(final_path)\n",
    "#             basename = os.path.splitext(file)[0]\n",
    "#             cv.convert(path_output + '/' + folder + '/' + basename+'.docx', start=0, end=None)\n",
    "#             cv.close()"
   ]
  },
  {
   "cell_type": "code",
   "execution_count": 7,
   "id": "19338393",
   "metadata": {},
   "outputs": [
    {
     "ename": "TypeError",
     "evalue": "__init__() missing 1 required positional argument: 'pdf_file'",
     "output_type": "error",
     "traceback": [
      "\u001b[0;31m---------------------------------------------------------------------------\u001b[0m",
      "\u001b[0;31mTypeError\u001b[0m                                 Traceback (most recent call last)",
      "Cell \u001b[0;32mIn[7], line 13\u001b[0m\n\u001b[1;32m     10\u001b[0m final \u001b[39m=\u001b[39m os\u001b[39m.\u001b[39mpath\u001b[39m.\u001b[39mjoin(path_input, file)\n\u001b[1;32m     12\u001b[0m \u001b[39m# Create a converter object\u001b[39;00m\n\u001b[0;32m---> 13\u001b[0m cv \u001b[39m=\u001b[39m Converter()\n\u001b[1;32m     15\u001b[0m \u001b[39m# Convert the PDF to DOCX\u001b[39;00m\n\u001b[1;32m     16\u001b[0m cv\u001b[39m.\u001b[39mconvert(final, os\u001b[39m.\u001b[39mpath\u001b[39m.\u001b[39mjoin(path_output, \u001b[39mf\u001b[39m\u001b[39m\"\u001b[39m\u001b[39m{\u001b[39;00mos\u001b[39m.\u001b[39mpath\u001b[39m.\u001b[39msplitext(file)[\u001b[39m0\u001b[39m]\u001b[39m}\u001b[39;00m\u001b[39m.docx\u001b[39m\u001b[39m\"\u001b[39m))\n",
      "\u001b[0;31mTypeError\u001b[0m: __init__() missing 1 required positional argument: 'pdf_file'"
     ]
    }
   ],
   "source": [
    "import os\n",
    "from pdf2docx import Converter\n",
    "\n",
    "# Iterate over files in the input directory\n",
    "for file in os.listdir(path_input):\n",
    "    # Check if the file ends with '.pdf'\n",
    "    if file.endswith('.pdf'):\n",
    "        \n",
    "        # Get the full path of the input file\n",
    "        final = os.path.join(path_input, file)\n",
    "        \n",
    "        # Create a converter object\n",
    "        cv = Converter()\n",
    "        \n",
    "        # Convert the PDF to DOCX\n",
    "        cv.convert(final, os.path.join(path_output, f\"{os.path.splitext(file)[0]}.docx\"))\n",
    "        \n",
    "        # Close the converter object\n",
    "        cv.close()\n"
   ]
  },
  {
   "cell_type": "code",
   "execution_count": 8,
   "id": "870d25ba",
   "metadata": {},
   "outputs": [
    {
     "name": "stderr",
     "output_type": "stream",
     "text": [
      "[INFO] Start to convert Dataset/Resumes/React JS Developer/React JS Developer_Prabakaran_Musquare.pdf\n",
      "[INFO] \u001b[1;36m[1/4] Opening document...\u001b[0m\n",
      "[INFO] \u001b[1;36m[2/4] Analyzing document...\u001b[0m\n",
      "[INFO] \u001b[1;36m[3/4] Parsing pages...\u001b[0m\n",
      "[INFO] (1/2) Page 1\n",
      "[INFO] (2/2) Page 2\n",
      "[INFO] \u001b[1;36m[4/4] Creating pages...\u001b[0m\n",
      "[INFO] (1/2) Page 1\n",
      "[INFO] (2/2) Page 2\n",
      "[INFO] Terminated in 0.47s.\n"
     ]
    }
   ],
   "source": [
    "import os\n",
    "from pdf2docx import Converter\n",
    "\n",
    "# Iterate over files in the input directory\n",
    "for file in os.listdir(path_input):\n",
    "    # Check if the file ends with '.pdf'\n",
    "    if file.endswith('.pdf'):\n",
    "        # Get the full path of the input file\n",
    "        final = os.path.join(path_input, file)\n",
    "        \n",
    "        # Create a converter object with the PDF file\n",
    "        cv = Converter(final)\n",
    "        \n",
    "        # Get the base name of the file (without extension)\n",
    "        basename = os.path.splitext(file)[0]\n",
    "        \n",
    "        # Convert the PDF to DOCX and save it in the output directory\n",
    "        cv.convert(os.path.join(path_output, f\"{basename}.docx\"))\n",
    "        \n",
    "        # Close the converter object\n",
    "        cv.close()\n"
   ]
  },
  {
   "attachments": {},
   "cell_type": "markdown",
   "id": "bd73eb73",
   "metadata": {},
   "source": [
    "# The End !!"
   ]
  }
 ],
 "metadata": {
  "kernelspec": {
   "display_name": "Python 3 (ipykernel)",
   "language": "python",
   "name": "python3"
  },
  "language_info": {
   "codemirror_mode": {
    "name": "ipython",
    "version": 3
   },
   "file_extension": ".py",
   "mimetype": "text/x-python",
   "name": "python",
   "nbconvert_exporter": "python",
   "pygments_lexer": "ipython3",
   "version": "3.9.12"
  }
 },
 "nbformat": 4,
 "nbformat_minor": 5
}
